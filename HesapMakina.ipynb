{
 "cells": [
  {
   "cell_type": "code",
   "execution_count": null,
   "id": "d98936ea-d624-4891-9c60-812cb3d456f5",
   "metadata": {},
   "outputs": [],
   "source": [
    "#Hesap Makinası\n",
    "def toplama(a, b):\n",
    "    return a + b\n",
    "\n",
    "def cikarma(a, b):\n",
    "    return a - b\n",
    "\n",
    "def carpma(a, b):\n",
    "    return a * b\n",
    "\n",
    "def bolme(a, b):\n",
    "    if b == 0:\n",
    "        return \"Hata: Sıfıra bölünemez!\"\n",
    "    return a / b\n",
    "\n",
    "print(\"Basit Hesap Makinesi Programı\")\n",
    "print(\"1. Toplama\")\n",
    "print(\"2. Çıkarma\")\n",
    "print(\"3. Çarpma\")\n",
    "print(\"4. Bölme\")\n",
    "\n",
    "while True:\n",
    "    # Kullanıcıdan işlem seçmesini iste\n",
    "    secim = input(\"Lütfen bir işlem seçin (1/2/3/4) veya çıkmak için 'x' yazın: \")\n",
    "\n",
    "    if secim == 'x':  # Çıkış seçeneği\n",
    "        print(\"Hesap makinesi kapatılıyor. Teşekkürler!\")\n",
    "        break\n",
    "\n",
    "    if secim in ['1', '2', '3', '4']:\n",
    "        try:\n",
    "            sayi1 = float(input(\"Birinci sayıyı girin: \"))\n",
    "            sayi2 = float(input(\"İkinci sayıyı girin: \"))\n",
    "        except ValueError:\n",
    "            print(\"Hata: Lütfen geçerli bir sayı girin!\")\n",
    "            continue\n",
    "\n",
    "        if secim == '1':\n",
    "            print(f\"Sonuç: {sayi1} + {sayi2} = {toplama(sayi1, sayi2)}\")\n",
    "        elif secim == '2':\n",
    "            print(f\"Sonuç: {sayi1} - {sayi2} = {cikarma(sayi1, sayi2)}\")\n",
    "        elif secim == '3':\n",
    "            print(f\"Sonuç: {sayi1} * {sayi2} = {carpma(sayi1, sayi2)}\")\n",
    "        elif secim == '4':\n",
    "            print(f\"Sonuç: {sayi1} / {sayi2} = {bolme(sayi1, sayi2)}\")\n",
    "    else:\n",
    "        print(\"Hata: Geçersiz seçim. Lütfen 1, 2, 3 veya 4'ü seçin!\")"
   ]
  }
 ],
 "metadata": {
  "kernelspec": {
   "display_name": "Python 3 (ipykernel)",
   "language": "python",
   "name": "python3"
  },
  "language_info": {
   "codemirror_mode": {
    "name": "ipython",
    "version": 3
   },
   "file_extension": ".py",
   "mimetype": "text/x-python",
   "name": "python",
   "nbconvert_exporter": "python",
   "pygments_lexer": "ipython3",
   "version": "3.12.7"
  }
 },
 "nbformat": 4,
 "nbformat_minor": 5
}
